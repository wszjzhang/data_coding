{
 "cells": [
  {
   "cell_type": "code",
   "execution_count": 1,
   "metadata": {
    "collapsed": true
   },
   "outputs": [],
   "source": [
    "def majority_vote(labels):\n",
    "    \"\"\"\n",
    "    Assuming the labels are soted from nearest to farthest\n",
    "    \"\"\"\n",
    "    vote_counts = Counter(labels)\n",
    "    winner, winner_count = vote_counts.most_common(1)[0]\n",
    "    num_winners = len([count for count in vote_counts.values()\n",
    "                       if count == winner_count])\n",
    "    \n",
    "    if num_winners == 1:\n",
    "        return winner\n",
    "    else:\n",
    "        return majority_vote(labels[:-1])"
   ]
  },
  {
   "cell_type": "code",
   "execution_count": 5,
   "metadata": {},
   "outputs": [],
   "source": [
    "def knn_classify(k, labeled_points, new_point):\n",
    "    \"\"\"\n",
    "    Each labeled point is a pair (point, label)\n",
    "    \"\"\"\n",
    "    \n",
    "    by_distance = sorted(labeled_points, \n",
    "                         key =lambda labeled_point: distance(labeled_point[0], newpoint))\n",
    "    \n",
    "    k_nearest_labels = [label for _, label in by_distance[:k]]\n",
    "    \n",
    "    return majority_vote(k_nearest_labels)"
   ]
  },
  {
   "cell_type": "code",
   "execution_count": null,
   "metadata": {
    "collapsed": true
   },
   "outputs": [],
   "source": []
  }
 ],
 "metadata": {
  "hide_input": false,
  "kernelspec": {
   "display_name": "Python 3",
   "language": "python",
   "name": "python3"
  },
  "language_info": {
   "codemirror_mode": {
    "name": "ipython",
    "version": 3
   },
   "file_extension": ".py",
   "mimetype": "text/x-python",
   "name": "python",
   "nbconvert_exporter": "python",
   "pygments_lexer": "ipython3",
   "version": "3.5.2"
  },
  "toc": {
   "nav_menu": {},
   "number_sections": true,
   "sideBar": true,
   "skip_h1_title": false,
   "toc_cell": false,
   "toc_position": {},
   "toc_section_display": "block",
   "toc_window_display": false
  },
  "widgets": {
   "state": {},
   "version": "1.1.2"
  }
 },
 "nbformat": 4,
 "nbformat_minor": 2
}
