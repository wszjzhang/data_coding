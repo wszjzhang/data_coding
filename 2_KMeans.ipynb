{
 "cells": [
  {
   "cell_type": "code",
   "execution_count": 1,
   "metadata": {
    "collapsed": true
   },
   "outputs": [],
   "source": [
    "class KMeans:\n",
    "    \"\"\"\n",
    "    Performs kmeans clustering\n",
    "    \"\"\"\n",
    "    \n",
    "    def __init__(self, k):\n",
    "        self.k = k\n",
    "        self.means = None\n",
    "        \n",
    "    def classify(self, input):\n",
    "        \"\"\"\n",
    "        Return the index of the cluster closest to the input\n",
    "        \"\"\"\n",
    "        return min(range(self.k),\n",
    "                  key=lambda i: squared_distance(input, self.means[i]))\n",
    "    \n",
    "    def train(self, inputs):\n",
    "        # choose k random points as the initial means\n",
    "        self.means = random.sample(inputs, self.k)\n",
    "        assignments = None\n",
    "        \n",
    "        while True:\n",
    "            # Find new assignments\n",
    "            new_assignments = map(self.classify, inputs)\n",
    "            \n",
    "            # If no assignments have changed, we're done\n",
    "            if assignments == new_assignments:\n",
    "                return\n",
    "            \n",
    "            # Otherwise keep the new assignments\n",
    "            assignments = newassignments\n",
    "            \n",
    "            # And compute new means based on the new assignments\n",
    "            for i in range(self.k):\n",
    "                # find all the points assigned to cluster i\n",
    "                i_points = [p for p, a in zip(inputs, assignments) if a == i]\n",
    "                \n",
    "                # make sure i_points is not empty so don't divide by0\n",
    "                if i_points:\n",
    "                    self.means[i] = vector_mean(i_points)"
   ]
  },
  {
   "cell_type": "code",
   "execution_count": null,
   "metadata": {
    "collapsed": true
   },
   "outputs": [],
   "source": []
  }
 ],
 "metadata": {
  "hide_input": false,
  "kernelspec": {
   "display_name": "Python 3",
   "language": "python",
   "name": "python3"
  },
  "language_info": {
   "codemirror_mode": {
    "name": "ipython",
    "version": 3
   },
   "file_extension": ".py",
   "mimetype": "text/x-python",
   "name": "python",
   "nbconvert_exporter": "python",
   "pygments_lexer": "ipython3",
   "version": "3.5.2"
  },
  "toc": {
   "nav_menu": {},
   "number_sections": true,
   "sideBar": true,
   "skip_h1_title": false,
   "toc_cell": false,
   "toc_position": {},
   "toc_section_display": "block",
   "toc_window_display": false
  },
  "widgets": {
   "state": {},
   "version": "1.1.2"
  }
 },
 "nbformat": 4,
 "nbformat_minor": 2
}
